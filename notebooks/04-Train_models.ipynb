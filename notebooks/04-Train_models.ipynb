{
 "cells": [
  {
   "cell_type": "markdown",
   "id": "ca1881ca-6325-4a83-9b54-e2ee7c502ced",
   "metadata": {},
   "source": [
    "# Train Models"
   ]
  },
  {
   "cell_type": "code",
   "execution_count": 1,
   "id": "521ab7a8-7016-4a74-837a-bf6a7348982b",
   "metadata": {},
   "outputs": [],
   "source": [
    "# Author information\n",
    "__author__ = \"Troy Reynolds\"\n",
    "__email__ = \"Troy.Lloyd.Reynolds@gmail.com\""
   ]
  },
  {
   "cell_type": "code",
   "execution_count": 2,
   "id": "353a3b8d-1add-4f58-890f-ed258ccaa1a9",
   "metadata": {},
   "outputs": [],
   "source": [
    "# libraries\n",
    "import pandas as pd\n",
    "import numpy as np\n",
    "import sys\n",
    "import os\n",
    "\n",
    "\n",
    "# processing libraries\n",
    "from sklearn.compose import ColumnTransformer\n",
    "from sklearn.pipeline import Pipeline\n",
    "from sklearn.preprocessing import StandardScaler, OneHotEncoder, PolynomialFeatures\n",
    "\n",
    "# model libraries\n",
    "from sklearn.model_selection import GridSearchCV, RandomizedSearchCV\n",
    "from sklearn.linear_model import Ridge, LinearRegression\n",
    "from sklearn.ensemble import RandomForestRegressor\n",
    "from xgboost import XGBRegressor\n",
    "\n",
    "# Extend the directory to get created functions\n",
    "sys.path.insert(0, \"./function_scripts\")\n",
    "sys.path.insert(0, \"./results\")\n",
    "\n",
    "# import helper functions\n",
    "from data_import_functions import get_data\n",
    "from Preprocessing import cv_mse_stats\n",
    "from results import display_search_results, save_results, save_model\n",
    "from results import plot_results, plot_feature_importance"
   ]
  },
  {
   "cell_type": "code",
   "execution_count": 3,
   "id": "563ed76e-d15c-4f2a-a876-3319755c524e",
   "metadata": {},
   "outputs": [
    {
     "data": {
      "text/html": [
       "<div>\n",
       "<style scoped>\n",
       "    .dataframe tbody tr th:only-of-type {\n",
       "        vertical-align: middle;\n",
       "    }\n",
       "\n",
       "    .dataframe tbody tr th {\n",
       "        vertical-align: top;\n",
       "    }\n",
       "\n",
       "    .dataframe thead th {\n",
       "        text-align: right;\n",
       "    }\n",
       "</style>\n",
       "<table border=\"1\" class=\"dataframe\">\n",
       "  <thead>\n",
       "    <tr style=\"text-align: right;\">\n",
       "      <th></th>\n",
       "      <th>jobType</th>\n",
       "      <th>degree</th>\n",
       "      <th>major</th>\n",
       "      <th>industry</th>\n",
       "      <th>yearsExperience</th>\n",
       "      <th>milesFromMetropolis</th>\n",
       "    </tr>\n",
       "  </thead>\n",
       "  <tbody>\n",
       "    <tr>\n",
       "      <th>0</th>\n",
       "      <td>CFO</td>\n",
       "      <td>MASTERS</td>\n",
       "      <td>MATH</td>\n",
       "      <td>HEALTH</td>\n",
       "      <td>10</td>\n",
       "      <td>83</td>\n",
       "    </tr>\n",
       "    <tr>\n",
       "      <th>1</th>\n",
       "      <td>CEO</td>\n",
       "      <td>HIGH_SCHOOL</td>\n",
       "      <td>NONE</td>\n",
       "      <td>WEB</td>\n",
       "      <td>3</td>\n",
       "      <td>73</td>\n",
       "    </tr>\n",
       "    <tr>\n",
       "      <th>2</th>\n",
       "      <td>VICE_PRESIDENT</td>\n",
       "      <td>DOCTORAL</td>\n",
       "      <td>PHYSICS</td>\n",
       "      <td>HEALTH</td>\n",
       "      <td>10</td>\n",
       "      <td>38</td>\n",
       "    </tr>\n",
       "    <tr>\n",
       "      <th>3</th>\n",
       "      <td>MANAGER</td>\n",
       "      <td>DOCTORAL</td>\n",
       "      <td>CHEMISTRY</td>\n",
       "      <td>AUTO</td>\n",
       "      <td>8</td>\n",
       "      <td>17</td>\n",
       "    </tr>\n",
       "    <tr>\n",
       "      <th>4</th>\n",
       "      <td>VICE_PRESIDENT</td>\n",
       "      <td>BACHELORS</td>\n",
       "      <td>PHYSICS</td>\n",
       "      <td>FINANCE</td>\n",
       "      <td>8</td>\n",
       "      <td>16</td>\n",
       "    </tr>\n",
       "  </tbody>\n",
       "</table>\n",
       "</div>"
      ],
      "text/plain": [
       "          jobType       degree      major industry  yearsExperience  \\\n",
       "0             CFO      MASTERS       MATH   HEALTH               10   \n",
       "1             CEO  HIGH_SCHOOL       NONE      WEB                3   \n",
       "2  VICE_PRESIDENT     DOCTORAL    PHYSICS   HEALTH               10   \n",
       "3         MANAGER     DOCTORAL  CHEMISTRY     AUTO                8   \n",
       "4  VICE_PRESIDENT    BACHELORS    PHYSICS  FINANCE                8   \n",
       "\n",
       "   milesFromMetropolis  \n",
       "0                   83  \n",
       "1                   73  \n",
       "2                   38  \n",
       "3                   17  \n",
       "4                   16  "
      ]
     },
     "execution_count": 3,
     "metadata": {},
     "output_type": "execute_result"
    }
   ],
   "source": [
    "# load in the data\n",
    "data = get_data(\"train\", key = \"jobId\", target_variable = \"salary\", remove_zeros = True)\n",
    "\n",
    "# drop id variables besides JobID for pairing in baseline regressor\n",
    "features = data.drop([\"jobId\",\"companyId\", \"salary\"], axis = 1)\n",
    "target = data[\"salary\"]\n",
    "\n",
    "# Preview of original features\n",
    "features.head()"
   ]
  },
  {
   "cell_type": "markdown",
   "id": "9670ac40-da1b-4ea5-88ab-93852e703997",
   "metadata": {},
   "source": [
    "## Model Proposal\n",
    "As discussed in the baseline model notebook, the proposed models will be split into 2 categories: linear model and tree-based model.\n",
    "\n",
    "<u>Linear Model:</u> The linear models proposed based on Ridge regression because all features are correlated with the target variable and thus valuable. Lasso Regression is added with the addition of polynomial features for potential feature selection.\n",
    "* [Linear Regression](https://scikit-learn.org/stable/modules/generated/sklearn.linear_model.LinearRegression.html)\n",
    "* Polynomial Linear Regression \n",
    "* [Ridge Regression](https://scikit-learn.org/stable/modules/generated/sklearn.linear_model.Ridge.html)\n",
    "* Polynomial Ridge Regression \n",
    "\n",
    "<u>Tree-based Model:</u>\n",
    "* [Random-Forest Model](https://scikit-learn.org/stable/modules/generated/sklearn.ensemble.RandomForestRegressor.html)\n",
    "* [XGBoost Regresssor](https://xgboost.readthedocs.io/en/latest/python/python_api.html#module-xgboost.sklearn)"
   ]
  },
  {
   "cell_type": "markdown",
   "id": "99f672ad-188d-4853-a391-9c5a19eba02e",
   "metadata": {},
   "source": [
    "## Preprocessing Pipelines"
   ]
  },
  {
   "cell_type": "markdown",
   "id": "739fe306-20b2-436c-bd42-ec2d8e5abe42",
   "metadata": {},
   "source": [
    "#### <u>Linear Model Pipeline:</u>\n",
    "As discussed in the previous notebook, the best tested transformations were one-hot-encding and standard scaling."
   ]
  },
  {
   "cell_type": "code",
   "execution_count": 4,
   "id": "5290e30c-f403-46bd-a4bb-ca646dd35290",
   "metadata": {},
   "outputs": [],
   "source": [
    "# variable grouping\n",
    "cat_var = [\"jobType\", \"major\", \"industry\", \"degree\"]\n",
    "num_var = [\"yearsExperience\", \"milesFromMetropolis\"]\n",
    "\n",
    "# Column Transformer\n",
    "feature_processing = ColumnTransformer([\n",
    "    (\"cat\", OneHotEncoder(drop = \"first\"), cat_var),\n",
    "    (\"num\", StandardScaler(), num_var)\n",
    "])\n",
    "\n",
    "# fit the features\n",
    "preprocessed_features = feature_processing.fit_transform(features)"
   ]
  },
  {
   "cell_type": "markdown",
   "id": "1da385aa-8d48-49e1-9a75-1bfd55414989",
   "metadata": {},
   "source": [
    "#### <u>Linear Model Pipeline with Polynomial Features:</u>"
   ]
  },
  {
   "cell_type": "code",
   "execution_count": 5,
   "id": "141827db-b3c7-4d0a-a50e-0e02de6b4868",
   "metadata": {},
   "outputs": [],
   "source": [
    "# pipleine\n",
    "polynomial_pipeline = Pipeline([\n",
    "    (\"preprocess\", feature_processing), # use previous column transformer\n",
    "    (\"polynomial\", PolynomialFeatures(degree = 2))\n",
    "])\n",
    "\n",
    "# fit the features\n",
    "poly_features = polynomial_pipeline.fit_transform(features)"
   ]
  },
  {
   "cell_type": "markdown",
   "id": "ff2d0279-9bc0-4a7b-b8cd-e131ba731dfe",
   "metadata": {},
   "source": [
    "#### <u>Random Forest and XGBoost Pipeline:</u>\n",
    "Tree-based models are robust to most issues that hinder linear models. The features will not be scaled since those preprocessing techniques can hinder tree-based model performances. Furthermore, the lack of scaling will increase interpretability of the model."
   ]
  },
  {
   "cell_type": "code",
   "execution_count": 6,
   "id": "c077d162-0fa4-46db-a325-6f01d0f94b51",
   "metadata": {},
   "outputs": [],
   "source": [
    "# pipeline\n",
    "tree_processing = ColumnTransformer(\n",
    "    # Note: random forest cannot use sparse data\n",
    "    [(\"cat\", OneHotEncoder(drop = \"first\", sparse = False), cat_var)], \n",
    "    remainder = \"passthrough\" # does not touch num variables\n",
    ")\n",
    "\n",
    "# fit the features\n",
    "tree_features = tree_processing.fit_transform(features)"
   ]
  },
  {
   "cell_type": "markdown",
   "id": "643a04bf-9513-4fec-97a3-55d607020dec",
   "metadata": {},
   "source": [
    "## Linear Model Tuning"
   ]
  },
  {
   "cell_type": "markdown",
   "id": "75db59fd-5759-476e-8ebe-1fb9e6244bbd",
   "metadata": {},
   "source": [
    "#### <u>Linear Regression:</u>\n",
    "Linear Regression using [LinearRegression](https://scikit-learn.org/stable/modules/generated/sklearn.linear_model.LinearRegression.html) from sklearn does not need any hyperparameter tuning. So, we shall run the model and collect the resulting MSE."
   ]
  },
  {
   "cell_type": "code",
   "execution_count": 7,
   "id": "535d552b-c338-414f-a2ca-86560b564ec2",
   "metadata": {},
   "outputs": [],
   "source": [
    "# mse storage\n",
    "results = []\n",
    "\n",
    "# initialize linear regressor\n",
    "lin = LinearRegression()\n",
    "\n",
    "# fit data\n",
    "results.append(cv_mse_stats(\"linear\", lin, preprocessed_features, target))"
   ]
  },
  {
   "cell_type": "markdown",
   "id": "c73a3829-a716-43c5-b683-3f86eb5b3da8",
   "metadata": {},
   "source": [
    "#### <u>Polynomial Linear Regression:</u>"
   ]
  },
  {
   "cell_type": "code",
   "execution_count": 8,
   "id": "c75cea14-cf9c-4069-a449-35834f14fef4",
   "metadata": {},
   "outputs": [],
   "source": [
    "# fit data\n",
    "results.append(cv_mse_stats(\"polynomial linear\", lin, poly_features, target))"
   ]
  },
  {
   "cell_type": "markdown",
   "id": "df3a680d-fbdb-4e67-96d8-2ce599e041bd",
   "metadata": {},
   "source": [
    "#### <u>Ridge Regression:</u>\n",
    "Ridge regression does have hyperparameter tuning involved."
   ]
  },
  {
   "cell_type": "code",
   "execution_count": 9,
   "id": "93814086-e1fd-4d04-a27d-9d44149f6c2b",
   "metadata": {},
   "outputs": [
    {
     "name": "stdout",
     "output_type": "stream",
     "text": [
      "Fitting 5 folds for each of 20 candidates, totalling 100 fits\n",
      "Wall time: 30.1 s\n",
      "Best Parameters:  {'alpha': 1, 'max_iter': 30}\n",
      "Best MSE:         384.44400430425\n"
     ]
    }
   ],
   "source": [
    "# Initialize model\n",
    "ridge_reg = Ridge(random_state = 42)\n",
    "\n",
    "# param_grid\n",
    "param_ridge = [{\n",
    "    \"alpha\": [0.3, 1, 3, 5, 10],\n",
    "    \"max_iter\": [30, 50, 75, 100],\n",
    "}]\n",
    "\n",
    "# initialize grid search\n",
    "grid_search_ridge = GridSearchCV(ridge_reg, \n",
    "                                 param_ridge, \n",
    "                                 scoring = \"neg_mean_squared_error\", \n",
    "                                 cv = 5, \n",
    "                                 n_jobs = 4, \n",
    "                                 verbose = 1)\n",
    "\n",
    "# run grid search\n",
    "%time grid_search_ridge.fit(preprocessed_features, target)\n",
    "print(\"Best Parameters: \", grid_search_ridge.best_params_)\n",
    "print(\"Best MSE:        \", -1*grid_search_ridge.best_score_)\n",
    "\n",
    "# save result\n",
    "results.append(cv_mse_stats(\"Ridge\", \n",
    "                            Ridge(random_state = 42, **grid_search_ridge.best_params_), \n",
    "                            preprocessed_features, \n",
    "                            target))"
   ]
  },
  {
   "cell_type": "markdown",
   "id": "47f8da76-1634-4ce7-add3-97c04ab1fc73",
   "metadata": {},
   "source": [
    "#### <u>Polynomial Ridge Regression:</u>"
   ]
  },
  {
   "cell_type": "code",
   "execution_count": 10,
   "id": "218316b8-0151-43b2-9bd4-eeb63f768264",
   "metadata": {},
   "outputs": [
    {
     "name": "stdout",
     "output_type": "stream",
     "text": [
      "Fitting 5 folds for each of 20 candidates, totalling 100 fits\n",
      "Wall time: 2min 50s\n",
      "Best Parameters:  {'alpha': 3, 'max_iter': 50}\n",
      "Best MSE:         354.08973521080924\n"
     ]
    }
   ],
   "source": [
    "# Initialize model\n",
    "ridge_reg = Ridge(random_state = 42)\n",
    "\n",
    "# param_grid\n",
    "param_poly_ridge = [{\n",
    "    \"alpha\": [0.3, 1, 3, 5, 10],\n",
    "    \"max_iter\": [30, 50, 75, 100],\n",
    "}]\n",
    "\n",
    "# initialize grid search\n",
    "grid_search_poly_ridge = GridSearchCV(ridge_reg, \n",
    "                                      param_poly_ridge, \n",
    "                                      scoring = \"neg_mean_squared_error\", \n",
    "                                      cv = 5, \n",
    "                                      n_jobs = 4, \n",
    "                                      verbose = 1)\n",
    "\n",
    "# run grid search\n",
    "%time grid_search_poly_ridge.fit(poly_features, target)\n",
    "print(\"Best Parameters: \", grid_search_poly_ridge.best_params_)\n",
    "print(\"Best MSE:        \", -1*grid_search_poly_ridge.best_score_)\n",
    "\n",
    "# save result\n",
    "results.append(cv_mse_stats(\"Polynomial Ridge\", \n",
    "                            Ridge(random_state = 42, **grid_search_poly_ridge.best_params_), \n",
    "                            poly_features, \n",
    "                            target))"
   ]
  },
  {
   "cell_type": "markdown",
   "id": "02664c73-2abe-401c-8b3a-e3f4b5591117",
   "metadata": {},
   "source": [
    "## Tree-Based Model Tuning"
   ]
  },
  {
   "cell_type": "markdown",
   "id": "8918f601-c8fe-4b7b-85ab-cd2463e880c4",
   "metadata": {},
   "source": [
    "#### Random Forest Regressor"
   ]
  },
  {
   "cell_type": "code",
   "execution_count": 11,
   "id": "b626e7f4-abe3-4c47-811e-8fe286c03a0d",
   "metadata": {},
   "outputs": [
    {
     "name": "stdout",
     "output_type": "stream",
     "text": [
      "Fitting 3 folds for each of 10 candidates, totalling 30 fits\n"
     ]
    },
    {
     "name": "stderr",
     "output_type": "stream",
     "text": [
      "C:\\Users\\Troyr\\anaconda3\\lib\\site-packages\\sklearn\\model_selection\\_search.py:918: UserWarning: One or more of the test scores are non-finite: [-437.06953589 -380.06846793           nan -379.3729981  -376.46459828\n",
      " -376.1914309  -372.99635672 -424.26113356 -405.31622241 -374.78617066]\n",
      "  warnings.warn(\n"
     ]
    },
    {
     "name": "stdout",
     "output_type": "stream",
     "text": [
      "Wall time: 25min 13s\n",
      "Best Parameters:  {'n_estimators': 25, 'min_samples_split': 23, 'max_features': 'sqrt', 'max_depth': 58}\n",
      "Best MSE:         -372.99635672013824\n"
     ]
    },
    {
     "data": {
      "text/html": [
       "<div>\n",
       "<style scoped>\n",
       "    .dataframe tbody tr th:only-of-type {\n",
       "        vertical-align: middle;\n",
       "    }\n",
       "\n",
       "    .dataframe tbody tr th {\n",
       "        vertical-align: top;\n",
       "    }\n",
       "\n",
       "    .dataframe thead th {\n",
       "        text-align: right;\n",
       "    }\n",
       "</style>\n",
       "<table border=\"1\" class=\"dataframe\">\n",
       "  <thead>\n",
       "    <tr style=\"text-align: right;\">\n",
       "      <th></th>\n",
       "      <th>n_estimators</th>\n",
       "      <th>min_samples_split</th>\n",
       "      <th>max_features</th>\n",
       "      <th>max_depth</th>\n",
       "      <th>mean_test_score</th>\n",
       "    </tr>\n",
       "  </thead>\n",
       "  <tbody>\n",
       "    <tr>\n",
       "      <th>0</th>\n",
       "      <td>63</td>\n",
       "      <td>3</td>\n",
       "      <td>auto</td>\n",
       "      <td>37</td>\n",
       "      <td>-437.069536</td>\n",
       "    </tr>\n",
       "    <tr>\n",
       "      <th>7</th>\n",
       "      <td>25</td>\n",
       "      <td>5</td>\n",
       "      <td>auto</td>\n",
       "      <td>58</td>\n",
       "      <td>-424.261134</td>\n",
       "    </tr>\n",
       "    <tr>\n",
       "      <th>8</th>\n",
       "      <td>88</td>\n",
       "      <td>7</td>\n",
       "      <td>auto</td>\n",
       "      <td>29</td>\n",
       "      <td>-405.316222</td>\n",
       "    </tr>\n",
       "    <tr>\n",
       "      <th>1</th>\n",
       "      <td>94</td>\n",
       "      <td>11</td>\n",
       "      <td>sqrt</td>\n",
       "      <td>80</td>\n",
       "      <td>-380.068468</td>\n",
       "    </tr>\n",
       "    <tr>\n",
       "      <th>3</th>\n",
       "      <td>63</td>\n",
       "      <td>11</td>\n",
       "      <td>sqrt</td>\n",
       "      <td>25</td>\n",
       "      <td>-379.372998</td>\n",
       "    </tr>\n",
       "    <tr>\n",
       "      <th>4</th>\n",
       "      <td>113</td>\n",
       "      <td>13</td>\n",
       "      <td>sqrt</td>\n",
       "      <td>67</td>\n",
       "      <td>-376.464598</td>\n",
       "    </tr>\n",
       "    <tr>\n",
       "      <th>5</th>\n",
       "      <td>69</td>\n",
       "      <td>25</td>\n",
       "      <td>auto</td>\n",
       "      <td>25</td>\n",
       "      <td>-376.191431</td>\n",
       "    </tr>\n",
       "    <tr>\n",
       "      <th>9</th>\n",
       "      <td>31</td>\n",
       "      <td>17</td>\n",
       "      <td>sqrt</td>\n",
       "      <td>29</td>\n",
       "      <td>-374.786171</td>\n",
       "    </tr>\n",
       "    <tr>\n",
       "      <th>6</th>\n",
       "      <td>25</td>\n",
       "      <td>23</td>\n",
       "      <td>sqrt</td>\n",
       "      <td>58</td>\n",
       "      <td>-372.996357</td>\n",
       "    </tr>\n",
       "    <tr>\n",
       "      <th>2</th>\n",
       "      <td>0</td>\n",
       "      <td>3</td>\n",
       "      <td>auto</td>\n",
       "      <td>4</td>\n",
       "      <td>NaN</td>\n",
       "    </tr>\n",
       "  </tbody>\n",
       "</table>\n",
       "</div>"
      ],
      "text/plain": [
       "   n_estimators  min_samples_split max_features  max_depth  mean_test_score\n",
       "0            63                  3         auto         37      -437.069536\n",
       "7            25                  5         auto         58      -424.261134\n",
       "8            88                  7         auto         29      -405.316222\n",
       "1            94                 11         sqrt         80      -380.068468\n",
       "3            63                 11         sqrt         25      -379.372998\n",
       "4           113                 13         sqrt         67      -376.464598\n",
       "5            69                 25         auto         25      -376.191431\n",
       "9            31                 17         sqrt         29      -374.786171\n",
       "6            25                 23         sqrt         58      -372.996357\n",
       "2             0                  3         auto          4              NaN"
      ]
     },
     "execution_count": 11,
     "metadata": {},
     "output_type": "execute_result"
    }
   ],
   "source": [
    "# Initialize model\n",
    "rf_reg = RandomForestRegressor(random_state = 42)\n",
    "\n",
    "# initialize parameter grid\n",
    "param_rf = [{\n",
    "    \"max_depth\": [int(x) for x in np.linspace(0, 80, num = 20)],\n",
    "    \"n_estimators\": [int(x) for x in np.linspace(0, 120, num = 20)],\n",
    "    \"min_samples_split\": [int(x) for x in np.linspace(0, 25,num = 20)],\n",
    "    \"max_features\": [\"auto\", \"sqrt\"]\n",
    "}]\n",
    "\n",
    "# initialize randomized grid search\n",
    "rand_search_rf = RandomizedSearchCV(rf_reg, \n",
    "                                    param_rf, \n",
    "                                    cv = 3, \n",
    "                                    scoring = \"neg_mean_squared_error\", \n",
    "                                    n_jobs = 4, \n",
    "                                    verbose = 1, \n",
    "                                    random_state = 42)\n",
    "# run randomized grid search\n",
    "%time rand_search_rf.fit(tree_features, target)\n",
    "print(\"Best Parameters: \", rand_search_rf.best_params_)\n",
    "print(\"Best MSE:        \", rand_search_rf.best_score_)\n",
    "\n",
    "# display results from randomized grid search\n",
    "display_search_results(rand_search_rf)"
   ]
  },
  {
   "cell_type": "code",
   "execution_count": 12,
   "id": "c0604478-ea0f-4e0a-91be-53db82d47997",
   "metadata": {},
   "outputs": [
    {
     "name": "stdout",
     "output_type": "stream",
     "text": [
      "Fitting 3 folds for each of 18 candidates, totalling 54 fits\n",
      "Wall time: 49min 41s\n",
      "Best Parameters:  {'max_depth': 30, 'max_features': 'sqrt', 'min_samples_split': 35, 'n_estimators': 120}\n",
      "Best MSE:         -368.7077445951945\n"
     ]
    }
   ],
   "source": [
    "# grid search parameters\n",
    "param_rf = [{\n",
    "    \"max_depth\": [30, 35],\n",
    "    \"n_estimators\": [110, 120, 130],\n",
    "    \"min_samples_split\": [30, 35, 40],\n",
    "    \"max_features\": [\"sqrt\"]\n",
    "}]\n",
    "\n",
    "# initialize grid search\n",
    "grid_search_rf = GridSearchCV(rf_reg, \n",
    "                              param_rf, \n",
    "                              cv = 3, \n",
    "                              scoring = \"neg_mean_squared_error\", \n",
    "                              n_jobs = 4, \n",
    "                              verbose = 1)\n",
    "# run grid search\n",
    "%time grid_search_rf.fit(tree_features, target)\n",
    "print(\"Best Parameters: \", grid_search_rf.best_params_)\n",
    "print(\"Best MSE:        \", grid_search_rf.best_score_)\n",
    "\n",
    "# save result\n",
    "results.append(cv_mse_stats(\"Random Forest\", \n",
    "                            RandomForestRegressor(random_state = 42, **grid_search_rf.best_params_), \n",
    "                            tree_features, \n",
    "                            target))"
   ]
  },
  {
   "cell_type": "markdown",
   "id": "9dcfa1d0-c358-4b2b-9458-edc313f1c7a9",
   "metadata": {},
   "source": [
    "#### XGBoost Regressor"
   ]
  },
  {
   "cell_type": "code",
   "execution_count": 13,
   "id": "85025f0e-098a-4d00-a833-97d4301ace14",
   "metadata": {},
   "outputs": [
    {
     "name": "stdout",
     "output_type": "stream",
     "text": [
      "Fitting 3 folds for each of 12 candidates, totalling 36 fits\n",
      "Wall time: 9min 1s\n",
      "Best Parameters:  {'max_depth': 7, 'n_estimators': 50}\n",
      "Best MSE:         -360.59059680412764\n"
     ]
    }
   ],
   "source": [
    "### Grid Search to get the best params\n",
    "xgb_reg = XGBRegressor(random_state = 42)\n",
    "\n",
    "param_xgb_reg = [{\n",
    "    \"max_depth\": [5, 7, 10],\n",
    "    \"n_estimators\": [20, 30, 40, 50],\n",
    "}]\n",
    "\n",
    "grid_search_xgb_reg = GridSearchCV(xgb_reg, \n",
    "                                   param_xgb_reg,\n",
    "                                   scoring = \"neg_mean_squared_error\", \n",
    "                                   cv = 3,\n",
    "                                   n_jobs = 1,\n",
    "                                   verbose = 1)\n",
    "\n",
    "# run grid search\n",
    "%time grid_search_xgb_reg.fit(tree_features, target)\n",
    "print(\"Best Parameters: \", grid_search_xgb_reg.best_params_)\n",
    "print(\"Best MSE:        \", grid_search_xgb_reg.best_score_)\n",
    "\n",
    "# display results from randomized grid search\n",
    "display_search_results(grid_search_xgb_reg)\n",
    "\n",
    "# save result\n",
    "results.append(cv_mse_stats(\"XGBoost Regressor\", \n",
    "                            XGBRegressor(random_state = 42, **grid_search_xgb_reg.best_params_), \n",
    "                            tree_features, \n",
    "                            target))"
   ]
  },
  {
   "cell_type": "markdown",
   "id": "d5746320-bc02-4151-b9c1-9c3d152b9656",
   "metadata": {},
   "source": [
    "## Results\n",
    "Out of all the models, the polynomial linear regression preformed the best. The model improved the baseline linear regression MSE by 11.5%. "
   ]
  },
  {
   "cell_type": "code",
   "execution_count": 14,
   "id": "4deee4f2-f9b2-4ee6-bc67-d2dbd8b67960",
   "metadata": {},
   "outputs": [
    {
     "name": "stdout",
     "output_type": "stream",
     "text": [
      "Saving figure Model Results\n",
      "Results Saved to .\\results\\Model_MSE_results.plk.pkl\n"
     ]
    },
    {
     "data": {
      "image/png": "[encoded data removed]",
      "text/plain": [
       "<Figure size 576x432 with 1 Axes>"
      ]
     },
     "metadata": {
      "needs_background": "light"
     },
     "output_type": "display_data"
    }
   ],
   "source": [
    "# organize results storage\n",
    "results_df = pd.DataFrame(data = results, columns = [\"Name\", \"Mean MSE\", \"Std MSE\"])\n",
    "results_sorted = results_df.sort_values(by = \"Mean MSE\", ignore_index = True)\n",
    "\n",
    "# plot the results\n",
    "plot_results(results_sorted, \"Model Results\")\n",
    "\n",
    "# save results\n",
    "save_results(results_sorted, \"Model_MSE_results\")"
   ]
  },
  {
   "cell_type": "code",
   "execution_count": 15,
   "id": "797c6c4f-4820-4196-8f9e-660b180f07a7",
   "metadata": {},
   "outputs": [
    {
     "name": "stdout",
     "output_type": "stream",
     "text": [
      "Results Saved to .\\model\\best_model.pkl\n",
      "Results Saved to .\\model\\pipeline.pkl\n"
     ]
    }
   ],
   "source": [
    "# save the best model for test predictions\n",
    "best_model = LinearRegression()\n",
    "best_model.fit(poly_features, target)\n",
    "save_model(best_model, \"best_model\")\n",
    "\n",
    "# save feature transformation pipeline\n",
    "save_model(polynomial_pipeline, \"pipeline\")"
   ]
  },
  {
   "cell_type": "markdown",
   "id": "dc0cd6a2-d045-45dd-91fc-bf0e5422fdd6",
   "metadata": {},
   "source": [
    "## Feature Importance\n",
    "The most impactful features are presented below. The 2 most important variables were whether the job listing was for a janitor or a junior position. The least impactful features came from the different majors."
   ]
  },
  {
   "cell_type": "code",
   "execution_count": 16,
   "id": "4212dad6-36be-4d11-8207-aaf4f4dcd22c",
   "metadata": {},
   "outputs": [
    {
     "data": {
      "text/plain": [
       "XGBRegressor(base_score=0.5, booster='gbtree', colsample_bylevel=1,\n",
       "             colsample_bynode=1, colsample_bytree=1, gamma=0, gpu_id=-1,\n",
       "             importance_type='gain', interaction_constraints='',\n",
       "             learning_rate=0.300000012, max_delta_step=0, max_depth=7,\n",
       "             min_child_weight=1, missing=nan, monotone_constraints='()',\n",
       "             n_estimators=50, n_jobs=8, num_parallel_tree=1, random_state=42,\n",
       "             reg_alpha=0, reg_lambda=1, scale_pos_weight=1, subsample=1,\n",
       "             tree_method='exact', validate_parameters=1, verbosity=None)"
      ]
     },
     "execution_count": 16,
     "metadata": {},
     "output_type": "execute_result"
    }
   ],
   "source": [
    "# fit xgboost regressor to get feature importances\n",
    "xgb = XGBRegressor(random_state = 42, **grid_search_xgb_reg.best_params_)\n",
    "xgb.fit(tree_features, target)"
   ]
  },
  {
   "cell_type": "code",
   "execution_count": 17,
   "id": "568bd1a7-3d81-4fac-9d17-deb80d4d56d9",
   "metadata": {},
   "outputs": [
    {
     "name": "stdout",
     "output_type": "stream",
     "text": [
      "Saving figure XGBOOST FEATURE IMPORTANCE\n"
     ]
    },
    {
     "data": {
      "image/png": "[encoded data removed]",
      "text/plain": [
       "<Figure size 720x576 with 1 Axes>"
      ]
     },
     "metadata": {},
     "output_type": "display_data"
    }
   ],
   "source": [
    "# plot importances\n",
    "importance = xgb.feature_importances_\n",
    "names = tree_processing.get_feature_names()\n",
    "plot_feature_importance(importance, names)"
   ]
  },
  {
   "cell_type": "code",
   "execution_count": null,
   "id": "bf48bfc0-9ac1-49a5-a419-854d07396b42",
   "metadata": {},
   "outputs": [],
   "source": []
  }
 ],
 "metadata": {
  "kernelspec": {
   "display_name": "Python 3",
   "language": "python",
   "name": "python3"
  },
  "language_info": {
   "codemirror_mode": {
    "name": "ipython",
    "version": 3
   },
   "file_extension": ".py",
   "mimetype": "text/x-python",
   "name": "python",
   "nbconvert_exporter": "python",
   "pygments_lexer": "ipython3",
   "version": "3.8.8"
  }
 },
 "nbformat": 4,
 "nbformat_minor": 5
}
