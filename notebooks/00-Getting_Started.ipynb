{
 "cells": [
  {
   "cell_type": "markdown",
   "id": "87641790-48e8-4329-9ddb-1b1fc37b3ca9",
   "metadata": {},
   "source": [
    "# Getting Started"
   ]
  },
  {
   "cell_type": "code",
   "execution_count": 1,
   "id": "5f422a22-694b-44ba-9fb1-17e069520e98",
   "metadata": {},
   "outputs": [],
   "source": [
    "# Author information\n",
    "__author__ = \"Troy Reynolds\"\n",
    "__email__ = \"Troy.Lloyd.Reynolds@gmail.com\""
   ]
  },
  {
   "cell_type": "code",
   "execution_count": 2,
   "id": "a3aa48d1-dc9c-4640-8468-29bd434d8675",
   "metadata": {},
   "outputs": [],
   "source": [
    "# libraries\n",
    "import pandas as pd\n",
    "import sys\n",
    "\n",
    "# Extend the directory to get created functions\n",
    "sys.path.insert(0, \"./function_scripts\")\n",
    "from data_import_functions import read_data, get_data"
   ]
  },
  {
   "cell_type": "markdown",
   "id": "b5979302-6152-47e1-a12f-b5255603bd9b",
   "metadata": {},
   "source": [
    "## Understanding the Problem"
   ]
  },
  {
   "cell_type": "markdown",
   "id": "39ae3b49-bb22-4053-850b-05361d6145ba",
   "metadata": {},
   "source": [
    "The goal for this model is to accurately predict the salary of a given job posting based on certian features.\n",
    "\n",
    "#### Purpose:\n",
    "This model can help job searchers determine whether a job listing offers a reasonable salary based on the requirements and distinct characteristics compared to other jobs with similar requirements and characteristics. Additionally, this model offers applicants leverage when negotiating salaries if they decide to apply to listings with seemingly unreasonable salaries.\n",
    "\n",
    "#### Error Metric:\n",
    "We are using the [Mean Squared Error (MSE)](https://en.wikipedia.org/wiki/Mean_squared_error) to calculate the model's accuracy and determine the best model. MSE is chosen over other regression error metrics because it penalizes predictions that are farther away from the target value as opposed to [Mean Absolute Error (MAE)](https://en.wikipedia.org/wiki/Mean_absolute_error)."
   ]
  },
  {
   "cell_type": "markdown",
   "id": "343799af-f329-42d1-9c76-676b408aa7e2",
   "metadata": {},
   "source": [
    "## Data:\n",
    "The historical data is stored as a csv files: \n",
    "* train_salaries: Each row has an ID and associated salary value.\n",
    "* train_features: Each row represents metadata for an individual job posting with its associated ID\n",
    "* test_features: Same format as train_features\n",
    "\n",
    "We can load in the training data and view its associated charageristics. train_features and train_salaries will be joined on the column \"jobId\"."
   ]
  },
  {
   "cell_type": "code",
   "execution_count": 3,
   "id": "b6c5f7b0-63a3-4d6c-add7-dbee30f89fa9",
   "metadata": {},
   "outputs": [
    {
     "name": "stdout",
     "output_type": "stream",
     "text": [
      "\n",
      "*********************** Reading in the features dataset ************************\n",
      "\n",
      "it has 1000000 rows and 8 columns\n",
      "\n",
      "************************* It has the following columns *************************\n",
      "\n",
      "jobId                  object\n",
      "companyId              object\n",
      "jobType                object\n",
      "degree                 object\n",
      "major                  object\n",
      "industry               object\n",
      "yearsExperience         int64\n",
      "milesFromMetropolis     int64\n",
      "dtype: object\n",
      "\n",
      "*********************** The first 5 rows look like this ************************\n",
      "\n",
      "              jobId companyId         jobType       degree      major  \\\n",
      "0  JOB1362684407687    COMP37             CFO      MASTERS       MATH   \n",
      "1  JOB1362684407688    COMP19             CEO  HIGH_SCHOOL       NONE   \n",
      "2  JOB1362684407689    COMP52  VICE_PRESIDENT     DOCTORAL    PHYSICS   \n",
      "3  JOB1362684407690    COMP38         MANAGER     DOCTORAL  CHEMISTRY   \n",
      "4  JOB1362684407691     COMP7  VICE_PRESIDENT    BACHELORS    PHYSICS   \n",
      "\n",
      "  industry  yearsExperience  milesFromMetropolis  \n",
      "0   HEALTH               10                   83  \n",
      "1      WEB                3                   73  \n",
      "2   HEALTH               10                   38  \n",
      "3     AUTO                8                   17  \n",
      "4  FINANCE                8                   16  \n",
      "\n",
      "\n",
      "\n",
      "******************** Reading in the target variable dataset ********************\n",
      "\n",
      "it has 1000000 rows and 2 columns\n",
      "\n",
      "************************* It has the following columns *************************\n",
      "\n",
      "jobId     object\n",
      "salary     int64\n",
      "dtype: object\n",
      "\n",
      "*********************** The first 5 rows look like this ************************\n",
      "\n",
      "              jobId  salary\n",
      "0  JOB1362684407687     130\n",
      "1  JOB1362684407688     101\n",
      "2  JOB1362684407689     137\n",
      "3  JOB1362684407690     142\n",
      "4  JOB1362684407691     163\n",
      "\n",
      "\n"
     ]
    }
   ],
   "source": [
    "# Dataset characteristics\n",
    "read_data(\"train\", verbose = True)"
   ]
  },
  {
   "cell_type": "code",
   "execution_count": 4,
   "id": "e019c0bf-7b3c-43ba-8592-f16c52b97c4c",
   "metadata": {},
   "outputs": [
    {
     "name": "stdout",
     "output_type": "stream",
     "text": [
      "\n",
      "*************************** Data Cleanliness Report ****************************\n",
      "\n",
      "Missing Values:\n",
      "jobId                  0\n",
      "companyId              0\n",
      "jobType                0\n",
      "degree                 0\n",
      "major                  0\n",
      "industry               0\n",
      "yearsExperience        0\n",
      "milesFromMetropolis    0\n",
      "salary                 0\n",
      "dtype: int64\n",
      "\n",
      "Target Variable: salary\n",
      "All values are positive.\n",
      "There are 5 values equal to 0.\n",
      "\n",
      "Duplicates:\n",
      "There are no duplicates in the data.\n"
     ]
    }
   ],
   "source": [
    "# load training data\n",
    "data = get_data(dset = \"train\", \n",
    "                key = \"jobId\", \n",
    "                clean_details = True, \n",
    "                target_variable = \"salary\")"
   ]
  },
  {
   "cell_type": "code",
   "execution_count": 5,
   "id": "9bd9a130-3291-4c9a-9fb8-64b2b6334f0e",
   "metadata": {},
   "outputs": [],
   "source": [
    "# Load test data without report\n",
    "test_features = get_data(dset = \"test\")"
   ]
  },
  {
   "cell_type": "markdown",
   "id": "d1be0e14-9b17-495c-9b17-3641d34b8d2d",
   "metadata": {},
   "source": [
    "#### Report:\n",
    "From the report, we see that there are 8 features (6 categorical features, 2 numerical features) and 1,000,000 observations. Furthermore, there are no missing values nor duplicates. However, there are 5 salary values that are equal to zero. Since there are 1 million observations, the removal of 5 observations will not significantly affect the model."
   ]
  },
  {
   "cell_type": "code",
   "execution_count": null,
   "id": "511048d3-d4a6-49ac-a653-9824da227739",
   "metadata": {},
   "outputs": [],
   "source": []
  }
 ],
 "metadata": {
  "kernelspec": {
   "display_name": "Python 3",
   "language": "python",
   "name": "python3"
  },
  "language_info": {
   "codemirror_mode": {
    "name": "ipython",
    "version": 3
   },
   "file_extension": ".py",
   "mimetype": "text/x-python",
   "name": "python",
   "nbconvert_exporter": "python",
   "pygments_lexer": "ipython3",
   "version": "3.8.8"
  }
 },
 "nbformat": 4,
 "nbformat_minor": 5
}
