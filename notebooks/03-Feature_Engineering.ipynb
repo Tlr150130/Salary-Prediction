{
 "cells": [
  {
   "cell_type": "markdown",
   "id": "fc06bc7d-cf65-4a68-945b-51b379dc97a7",
   "metadata": {},
   "source": [
    "# Feature Engineering"
   ]
  },
  {
   "cell_type": "code",
   "execution_count": 1,
   "id": "36a949cf-c186-4afa-9063-6737e06a70bc",
   "metadata": {},
   "outputs": [],
   "source": [
    "# Author information\n",
    "__author__ = \"Troy Reynolds\"\n",
    "__email__ = \"Troy.Lloyd.Reynolds@gmail.com\""
   ]
  },
  {
   "cell_type": "code",
   "execution_count": 2,
   "id": "c6275cf5-8539-4416-ae4c-9d6d177d7725",
   "metadata": {},
   "outputs": [],
   "source": [
    "# libraries\n",
    "import pandas as pd\n",
    "import numpy as np\n",
    "import matplotlib.pyplot as plt\n",
    "import seaborn as sns\n",
    "import sys\n",
    "import inspect\n",
    "from sklearn.model_selection import cross_val_score\n",
    "from sklearn.linear_model import LinearRegression\n",
    "from sklearn.compose import ColumnTransformer\n",
    "from sklearn.pipeline import Pipeline\n",
    "from sklearn.preprocessing import StandardScaler, OneHotEncoder, OrdinalEncoder, PolynomialFeatures\n",
    "from statistics import mean, stdev\n",
    "\n",
    "# Extend the directory to get created functions\n",
    "sys.path.insert(0, \"./function_scripts\")\n",
    "\n",
    "# import helper functions\n",
    "from data_import_functions import get_data\n",
    "from Preprocessing import change_variables, cv_mse_stats\n",
    "from results import plot_results"
   ]
  },
  {
   "cell_type": "code",
   "execution_count": 3,
   "id": "191ec638-d91f-454d-b954-90206110d2b7",
   "metadata": {},
   "outputs": [
    {
     "data": {
      "text/html": [
       "<div>\n",
       "<style scoped>\n",
       "    .dataframe tbody tr th:only-of-type {\n",
       "        vertical-align: middle;\n",
       "    }\n",
       "\n",
       "    .dataframe tbody tr th {\n",
       "        vertical-align: top;\n",
       "    }\n",
       "\n",
       "    .dataframe thead th {\n",
       "        text-align: right;\n",
       "    }\n",
       "</style>\n",
       "<table border=\"1\" class=\"dataframe\">\n",
       "  <thead>\n",
       "    <tr style=\"text-align: right;\">\n",
       "      <th></th>\n",
       "      <th>jobType</th>\n",
       "      <th>degree</th>\n",
       "      <th>major</th>\n",
       "      <th>industry</th>\n",
       "      <th>yearsExperience</th>\n",
       "      <th>milesFromMetropolis</th>\n",
       "    </tr>\n",
       "  </thead>\n",
       "  <tbody>\n",
       "    <tr>\n",
       "      <th>0</th>\n",
       "      <td>CFO</td>\n",
       "      <td>MASTERS</td>\n",
       "      <td>MATH</td>\n",
       "      <td>HEALTH</td>\n",
       "      <td>10</td>\n",
       "      <td>83</td>\n",
       "    </tr>\n",
       "    <tr>\n",
       "      <th>1</th>\n",
       "      <td>CEO</td>\n",
       "      <td>HIGH_SCHOOL</td>\n",
       "      <td>NONE</td>\n",
       "      <td>WEB</td>\n",
       "      <td>3</td>\n",
       "      <td>73</td>\n",
       "    </tr>\n",
       "    <tr>\n",
       "      <th>2</th>\n",
       "      <td>VICE_PRESIDENT</td>\n",
       "      <td>DOCTORAL</td>\n",
       "      <td>PHYSICS</td>\n",
       "      <td>HEALTH</td>\n",
       "      <td>10</td>\n",
       "      <td>38</td>\n",
       "    </tr>\n",
       "    <tr>\n",
       "      <th>3</th>\n",
       "      <td>MANAGER</td>\n",
       "      <td>DOCTORAL</td>\n",
       "      <td>CHEMISTRY</td>\n",
       "      <td>AUTO</td>\n",
       "      <td>8</td>\n",
       "      <td>17</td>\n",
       "    </tr>\n",
       "    <tr>\n",
       "      <th>4</th>\n",
       "      <td>VICE_PRESIDENT</td>\n",
       "      <td>BACHELORS</td>\n",
       "      <td>PHYSICS</td>\n",
       "      <td>FINANCE</td>\n",
       "      <td>8</td>\n",
       "      <td>16</td>\n",
       "    </tr>\n",
       "  </tbody>\n",
       "</table>\n",
       "</div>"
      ],
      "text/plain": [
       "          jobType       degree      major industry  yearsExperience  \\\n",
       "0             CFO      MASTERS       MATH   HEALTH               10   \n",
       "1             CEO  HIGH_SCHOOL       NONE      WEB                3   \n",
       "2  VICE_PRESIDENT     DOCTORAL    PHYSICS   HEALTH               10   \n",
       "3         MANAGER     DOCTORAL  CHEMISTRY     AUTO                8   \n",
       "4  VICE_PRESIDENT    BACHELORS    PHYSICS  FINANCE                8   \n",
       "\n",
       "   milesFromMetropolis  \n",
       "0                   83  \n",
       "1                   73  \n",
       "2                   38  \n",
       "3                   17  \n",
       "4                   16  "
      ]
     },
     "execution_count": 3,
     "metadata": {},
     "output_type": "execute_result"
    }
   ],
   "source": [
    "# load in the data\n",
    "data = get_data(\"train\", key = \"jobId\", target_variable = \"salary\", remove_zeros = True)\n",
    "\n",
    "# drop id variables besides JobID for pairing in baseline regressor\n",
    "features = data.drop([\"jobId\",\"companyId\", \"salary\"], axis = 1)\n",
    "target = data[\"salary\"]\n",
    "\n",
    "# seperate categorical and numerical variables\n",
    "num_features = features.select_dtypes(include=\"int64\")\n",
    "cat_features = features.select_dtypes(include=\"O\")\n",
    "\n",
    "# Preview of original features\n",
    "features.head()"
   ]
  },
  {
   "cell_type": "markdown",
   "id": "8d1d849d-43b1-4af2-a291-f8671a4a95f9",
   "metadata": {},
   "source": [
    "## Feature Transformation Class"
   ]
  },
  {
   "cell_type": "markdown",
   "id": "0098c139-8bae-425a-9ba6-1ce902f5ca66",
   "metadata": {},
   "source": [
    "#### Binary transformation\n",
    "As discussed in the Exploratory Data Analysis notebook, there is little variation amongst salaries of higher education and amongst no higher education requirement. The conversion of degree to a binary variable may improve model accuracy.\n",
    "\n",
    "#### Interactions\n",
    "Also discussed in the Exploratory Data Analysis notebook, there is interaction between industry and major. Adding features to account for this interaction could improve accuracy in linear models. It will not be implemented in tree-based models because tree-based models already account for interactions intuitively. So, the two options will be tested against each other: full polynomial regression and only adding industry-major interaction terms.\n",
    "\n",
    "Note that we are including the original features that the interactions are based on because those feature still offer individual contribution towards the target variable.\n",
    "\n",
    "#### Transformer class\n",
    "The preprocessing class will have options for both degree binary transformation, inclusion of interaction terms, and feature elimination."
   ]
  },
  {
   "cell_type": "code",
   "execution_count": 4,
   "id": "b6e5accf-4c04-4807-847a-1355aa210401",
   "metadata": {},
   "outputs": [
    {
     "name": "stdout",
     "output_type": "stream",
     "text": [
      "class change_variables(BaseEstimator, TransformerMixin):\n",
      "    \"\"\"\n",
      "    Prepares the data for subsequent modeling\n",
      "    \n",
      "    Parameters\n",
      "    ==========\n",
      "    cols_to_delete: list(String) of columns to delete\n",
      "    change_degree: turn degree into a boolean that represents having an advanced degree        \n",
      "    \n",
      "    Methods\n",
      "    =======\n",
      "    fit: Nothing\n",
      "    transform: Changes the features of the dataset\n",
      "    \"\"\"\n",
      "    def __init__(self, cols_to_delete = None, change_degree = False, interactions = False):\n",
      "        self.change_degree = change_degree\n",
      "        self.interactions = interactions\n",
      "        self.cols_to_delete = cols_to_delete\n",
      "            \n",
      "        \n",
      "    def fit(self, X, y = None):\n",
      "        # there is nothing to be fitted\n",
      "        return self\n",
      "    \n",
      "    def transform(self, X, y = None):\n",
      "        # create a copy\n",
      "        X_copy = X.copy()\n",
      "        \n",
      "        # degree change\n",
      "        if self.change_degree: \n",
      "            X_copy[\"higher_ed\"] = np.where((X['degree'] == \"NONE\") | (X['degree'] == \"HIGH_SCHOOL\"), 0, 1)\n",
      "            X_copy = X_copy.drop(\"degree\", axis = 1)\n",
      "        \n",
      "        # interactions between major and industry\n",
      "        if self.interactions:\n",
      "            X_copy[\"major_industry\"] = X_copy[\"major\"] + \"_\" + X_copy[\"industry\"]\n",
      "        \n",
      "        # return dataframe result\n",
      "        if self.cols_to_delete == None:\n",
      "            return X_copy\n",
      "        return X_copy.drop(self.cols_to_delete, axis = 1)\n",
      "\n"
     ]
    }
   ],
   "source": [
    "print(inspect.getsource(change_variables))"
   ]
  },
  {
   "cell_type": "code",
   "execution_count": 5,
   "id": "fdacdf2e-7c03-4655-860b-5e7167be4401",
   "metadata": {},
   "outputs": [
    {
     "data": {
      "text/html": [
       "<div>\n",
       "<style scoped>\n",
       "    .dataframe tbody tr th:only-of-type {\n",
       "        vertical-align: middle;\n",
       "    }\n",
       "\n",
       "    .dataframe tbody tr th {\n",
       "        vertical-align: top;\n",
       "    }\n",
       "\n",
       "    .dataframe thead th {\n",
       "        text-align: right;\n",
       "    }\n",
       "</style>\n",
       "<table border=\"1\" class=\"dataframe\">\n",
       "  <thead>\n",
       "    <tr style=\"text-align: right;\">\n",
       "      <th></th>\n",
       "      <th>jobType</th>\n",
       "      <th>major</th>\n",
       "      <th>industry</th>\n",
       "      <th>yearsExperience</th>\n",
       "      <th>milesFromMetropolis</th>\n",
       "      <th>higher_ed</th>\n",
       "    </tr>\n",
       "  </thead>\n",
       "  <tbody>\n",
       "    <tr>\n",
       "      <th>0</th>\n",
       "      <td>CFO</td>\n",
       "      <td>MATH</td>\n",
       "      <td>HEALTH</td>\n",
       "      <td>10</td>\n",
       "      <td>83</td>\n",
       "      <td>1</td>\n",
       "    </tr>\n",
       "    <tr>\n",
       "      <th>1</th>\n",
       "      <td>CEO</td>\n",
       "      <td>NONE</td>\n",
       "      <td>WEB</td>\n",
       "      <td>3</td>\n",
       "      <td>73</td>\n",
       "      <td>0</td>\n",
       "    </tr>\n",
       "    <tr>\n",
       "      <th>2</th>\n",
       "      <td>VICE_PRESIDENT</td>\n",
       "      <td>PHYSICS</td>\n",
       "      <td>HEALTH</td>\n",
       "      <td>10</td>\n",
       "      <td>38</td>\n",
       "      <td>1</td>\n",
       "    </tr>\n",
       "    <tr>\n",
       "      <th>3</th>\n",
       "      <td>MANAGER</td>\n",
       "      <td>CHEMISTRY</td>\n",
       "      <td>AUTO</td>\n",
       "      <td>8</td>\n",
       "      <td>17</td>\n",
       "      <td>1</td>\n",
       "    </tr>\n",
       "    <tr>\n",
       "      <th>4</th>\n",
       "      <td>VICE_PRESIDENT</td>\n",
       "      <td>PHYSICS</td>\n",
       "      <td>FINANCE</td>\n",
       "      <td>8</td>\n",
       "      <td>16</td>\n",
       "      <td>1</td>\n",
       "    </tr>\n",
       "  </tbody>\n",
       "</table>\n",
       "</div>"
      ],
      "text/plain": [
       "          jobType      major industry  yearsExperience  milesFromMetropolis  \\\n",
       "0             CFO       MATH   HEALTH               10                   83   \n",
       "1             CEO       NONE      WEB                3                   73   \n",
       "2  VICE_PRESIDENT    PHYSICS   HEALTH               10                   38   \n",
       "3         MANAGER  CHEMISTRY     AUTO                8                   17   \n",
       "4  VICE_PRESIDENT    PHYSICS  FINANCE                8                   16   \n",
       "\n",
       "   higher_ed  \n",
       "0          1  \n",
       "1          0  \n",
       "2          1  \n",
       "3          1  \n",
       "4          1  "
      ]
     },
     "metadata": {},
     "output_type": "display_data"
    }
   ],
   "source": [
    "# change degree\n",
    "degree_changer = change_variables(change_degree  = True)\n",
    "degree_features = degree_changer.transform(features)\n",
    "display(degree_features.head())\n",
    "\n",
    "# conserve memory\n",
    "del degree_features"
   ]
  },
  {
   "cell_type": "code",
   "execution_count": 6,
   "id": "0fb09b88-e94b-4bfe-b24a-333e5271a8e6",
   "metadata": {},
   "outputs": [
    {
     "data": {
      "text/html": [
       "<div>\n",
       "<style scoped>\n",
       "    .dataframe tbody tr th:only-of-type {\n",
       "        vertical-align: middle;\n",
       "    }\n",
       "\n",
       "    .dataframe tbody tr th {\n",
       "        vertical-align: top;\n",
       "    }\n",
       "\n",
       "    .dataframe thead th {\n",
       "        text-align: right;\n",
       "    }\n",
       "</style>\n",
       "<table border=\"1\" class=\"dataframe\">\n",
       "  <thead>\n",
       "    <tr style=\"text-align: right;\">\n",
       "      <th></th>\n",
       "      <th>jobType</th>\n",
       "      <th>degree</th>\n",
       "      <th>major</th>\n",
       "      <th>industry</th>\n",
       "      <th>yearsExperience</th>\n",
       "      <th>milesFromMetropolis</th>\n",
       "      <th>major_industry</th>\n",
       "    </tr>\n",
       "  </thead>\n",
       "  <tbody>\n",
       "    <tr>\n",
       "      <th>0</th>\n",
       "      <td>CFO</td>\n",
       "      <td>MASTERS</td>\n",
       "      <td>MATH</td>\n",
       "      <td>HEALTH</td>\n",
       "      <td>10</td>\n",
       "      <td>83</td>\n",
       "      <td>MATH_HEALTH</td>\n",
       "    </tr>\n",
       "    <tr>\n",
       "      <th>1</th>\n",
       "      <td>CEO</td>\n",
       "      <td>HIGH_SCHOOL</td>\n",
       "      <td>NONE</td>\n",
       "      <td>WEB</td>\n",
       "      <td>3</td>\n",
       "      <td>73</td>\n",
       "      <td>NONE_WEB</td>\n",
       "    </tr>\n",
       "    <tr>\n",
       "      <th>2</th>\n",
       "      <td>VICE_PRESIDENT</td>\n",
       "      <td>DOCTORAL</td>\n",
       "      <td>PHYSICS</td>\n",
       "      <td>HEALTH</td>\n",
       "      <td>10</td>\n",
       "      <td>38</td>\n",
       "      <td>PHYSICS_HEALTH</td>\n",
       "    </tr>\n",
       "    <tr>\n",
       "      <th>3</th>\n",
       "      <td>MANAGER</td>\n",
       "      <td>DOCTORAL</td>\n",
       "      <td>CHEMISTRY</td>\n",
       "      <td>AUTO</td>\n",
       "      <td>8</td>\n",
       "      <td>17</td>\n",
       "      <td>CHEMISTRY_AUTO</td>\n",
       "    </tr>\n",
       "    <tr>\n",
       "      <th>4</th>\n",
       "      <td>VICE_PRESIDENT</td>\n",
       "      <td>BACHELORS</td>\n",
       "      <td>PHYSICS</td>\n",
       "      <td>FINANCE</td>\n",
       "      <td>8</td>\n",
       "      <td>16</td>\n",
       "      <td>PHYSICS_FINANCE</td>\n",
       "    </tr>\n",
       "  </tbody>\n",
       "</table>\n",
       "</div>"
      ],
      "text/plain": [
       "          jobType       degree      major industry  yearsExperience  \\\n",
       "0             CFO      MASTERS       MATH   HEALTH               10   \n",
       "1             CEO  HIGH_SCHOOL       NONE      WEB                3   \n",
       "2  VICE_PRESIDENT     DOCTORAL    PHYSICS   HEALTH               10   \n",
       "3         MANAGER     DOCTORAL  CHEMISTRY     AUTO                8   \n",
       "4  VICE_PRESIDENT    BACHELORS    PHYSICS  FINANCE                8   \n",
       "\n",
       "   milesFromMetropolis   major_industry  \n",
       "0                   83      MATH_HEALTH  \n",
       "1                   73         NONE_WEB  \n",
       "2                   38   PHYSICS_HEALTH  \n",
       "3                   17   CHEMISTRY_AUTO  \n",
       "4                   16  PHYSICS_FINANCE  "
      ]
     },
     "metadata": {},
     "output_type": "display_data"
    }
   ],
   "source": [
    "# add interactions \n",
    "interaction_add = change_variables(interactions  = True)\n",
    "interaction_features = interaction_add.transform(features)\n",
    "display(interaction_features.head())\n",
    "\n",
    "# conserve memory\n",
    "del interaction_features"
   ]
  },
  {
   "cell_type": "code",
   "execution_count": 7,
   "id": "ff64f8d7-0c06-468c-b56f-fb7176ba7b12",
   "metadata": {},
   "outputs": [
    {
     "data": {
      "text/html": [
       "<div>\n",
       "<style scoped>\n",
       "    .dataframe tbody tr th:only-of-type {\n",
       "        vertical-align: middle;\n",
       "    }\n",
       "\n",
       "    .dataframe tbody tr th {\n",
       "        vertical-align: top;\n",
       "    }\n",
       "\n",
       "    .dataframe thead th {\n",
       "        text-align: right;\n",
       "    }\n",
       "</style>\n",
       "<table border=\"1\" class=\"dataframe\">\n",
       "  <thead>\n",
       "    <tr style=\"text-align: right;\">\n",
       "      <th></th>\n",
       "      <th>jobType</th>\n",
       "      <th>major</th>\n",
       "      <th>industry</th>\n",
       "      <th>yearsExperience</th>\n",
       "      <th>milesFromMetropolis</th>\n",
       "      <th>higher_ed</th>\n",
       "      <th>major_industry</th>\n",
       "    </tr>\n",
       "  </thead>\n",
       "  <tbody>\n",
       "    <tr>\n",
       "      <th>0</th>\n",
       "      <td>CFO</td>\n",
       "      <td>MATH</td>\n",
       "      <td>HEALTH</td>\n",
       "      <td>10</td>\n",
       "      <td>83</td>\n",
       "      <td>1</td>\n",
       "      <td>MATH_HEALTH</td>\n",
       "    </tr>\n",
       "    <tr>\n",
       "      <th>1</th>\n",
       "      <td>CEO</td>\n",
       "      <td>NONE</td>\n",
       "      <td>WEB</td>\n",
       "      <td>3</td>\n",
       "      <td>73</td>\n",
       "      <td>0</td>\n",
       "      <td>NONE_WEB</td>\n",
       "    </tr>\n",
       "    <tr>\n",
       "      <th>2</th>\n",
       "      <td>VICE_PRESIDENT</td>\n",
       "      <td>PHYSICS</td>\n",
       "      <td>HEALTH</td>\n",
       "      <td>10</td>\n",
       "      <td>38</td>\n",
       "      <td>1</td>\n",
       "      <td>PHYSICS_HEALTH</td>\n",
       "    </tr>\n",
       "    <tr>\n",
       "      <th>3</th>\n",
       "      <td>MANAGER</td>\n",
       "      <td>CHEMISTRY</td>\n",
       "      <td>AUTO</td>\n",
       "      <td>8</td>\n",
       "      <td>17</td>\n",
       "      <td>1</td>\n",
       "      <td>CHEMISTRY_AUTO</td>\n",
       "    </tr>\n",
       "    <tr>\n",
       "      <th>4</th>\n",
       "      <td>VICE_PRESIDENT</td>\n",
       "      <td>PHYSICS</td>\n",
       "      <td>FINANCE</td>\n",
       "      <td>8</td>\n",
       "      <td>16</td>\n",
       "      <td>1</td>\n",
       "      <td>PHYSICS_FINANCE</td>\n",
       "    </tr>\n",
       "  </tbody>\n",
       "</table>\n",
       "</div>"
      ],
      "text/plain": [
       "          jobType      major industry  yearsExperience  milesFromMetropolis  \\\n",
       "0             CFO       MATH   HEALTH               10                   83   \n",
       "1             CEO       NONE      WEB                3                   73   \n",
       "2  VICE_PRESIDENT    PHYSICS   HEALTH               10                   38   \n",
       "3         MANAGER  CHEMISTRY     AUTO                8                   17   \n",
       "4  VICE_PRESIDENT    PHYSICS  FINANCE                8                   16   \n",
       "\n",
       "   higher_ed   major_industry  \n",
       "0          1      MATH_HEALTH  \n",
       "1          0         NONE_WEB  \n",
       "2          1   PHYSICS_HEALTH  \n",
       "3          1   CHEMISTRY_AUTO  \n",
       "4          1  PHYSICS_FINANCE  "
      ]
     },
     "metadata": {},
     "output_type": "display_data"
    }
   ],
   "source": [
    "# change degree and add interactions\n",
    "degree_interaction = change_variables(change_degree  = True, interactions  = True)\n",
    "degree_interaction_features = degree_interaction.transform(features)\n",
    "display(degree_interaction_features.head())\n",
    "\n",
    "# conserve memory\n",
    "del degree_interaction_features"
   ]
  },
  {
   "cell_type": "markdown",
   "id": "4d05ffae-fa51-40a5-8f24-bf907944f396",
   "metadata": {},
   "source": [
    "## Standard Scaling\n",
    "The numerical features will be scaled using sklearn's [StandardScaler](https://scikit-learn.org/stable/modules/generated/sklearn.preprocessing.StandardScaler.html) to allow all features to impact the target variable equally regardless of scale. This is only necessary for linear model becasue their cost function is based on distance which is influenced by scale."
   ]
  },
  {
   "cell_type": "code",
   "execution_count": 8,
   "id": "3f82d7cf-905f-466d-85d4-bfb9d6b13ea0",
   "metadata": {},
   "outputs": [
    {
     "name": "stdout",
     "output_type": "stream",
     "text": [
      "[[-0.27624796  1.159047  ]\n",
      " [-1.24680052  0.81275912]\n",
      " [-0.27624796 -0.39924849]\n",
      " [-0.55354869 -1.12645305]\n",
      " [-0.55354869 -1.16108184]]\n"
     ]
    }
   ],
   "source": [
    "scaler = StandardScaler()\n",
    "scaled_features = scaler.fit_transform(num_features)\n",
    "print(scaled_features[:5, :])\n",
    "\n",
    "# conserve memory\n",
    "del scaled_features"
   ]
  },
  {
   "cell_type": "markdown",
   "id": "84ebf3c4-c03a-4623-a9ad-b2e89dbcabb8",
   "metadata": {},
   "source": [
    "## Categorical Feature Encoding\n",
    "#### <u>One-hot-encoder:</u>\n",
    "All categorical features, excluding Degree, are not ordinal. So, they will be encoded as dummy variables using sklearn's [OneHotEncoder](https://scikit-learn.org/stable/modules/generated/sklearn.preprocessing.OneHotEncoder.html). We will remove the 1st level of each level to prevent colinearity amongst the newly created dummy variables. Degree will also be assessed with both ordinal and nominal encoding techniques."
   ]
  },
  {
   "cell_type": "code",
   "execution_count": 9,
   "id": "eb6a4910-57a5-4830-80aa-3156832c9abc",
   "metadata": {},
   "outputs": [
    {
     "data": {
      "text/plain": [
       "array([[1., 0., 0., 0., 0., 0., 0., 0., 0., 1., 0., 0., 0., 0., 0., 0.,\n",
       "        1., 0., 0., 0., 0., 1., 0., 0., 0.],\n",
       "       [0., 0., 0., 0., 0., 0., 0., 0., 1., 0., 0., 0., 0., 0., 0., 0.,\n",
       "        0., 1., 0., 0., 0., 0., 0., 0., 1.],\n",
       "       [0., 0., 0., 0., 0., 0., 1., 1., 0., 0., 0., 0., 0., 0., 0., 0.,\n",
       "        0., 0., 1., 0., 0., 1., 0., 0., 0.],\n",
       "       [0., 0., 0., 0., 1., 0., 0., 1., 0., 0., 0., 0., 1., 0., 0., 0.,\n",
       "        0., 0., 0., 0., 0., 0., 0., 0., 0.],\n",
       "       [0., 0., 0., 0., 0., 0., 1., 0., 0., 0., 0., 0., 0., 0., 0., 0.,\n",
       "        0., 0., 1., 0., 1., 0., 0., 0., 0.]])"
      ]
     },
     "execution_count": 9,
     "metadata": {},
     "output_type": "execute_result"
    }
   ],
   "source": [
    "one_hot_transformer = OneHotEncoder(drop = \"first\", sparse = False)\n",
    "cat_one_hot = one_hot_transformer.fit_transform(cat_features)\n",
    "cat_one_hot[:5, :]"
   ]
  },
  {
   "cell_type": "markdown",
   "id": "d396188a-e14b-4c42-93b7-dd9ca54027a7",
   "metadata": {},
   "source": [
    "#### <u>Ordinal Encoder:</u>\n",
    "Degree has a hierarchical system amongst its levels. To preserve this, we will encode using sklearn's [OrdinalEncoder](https://scikit-learn.org/stable/modules/generated/sklearn.preprocessing.OrdinalEncoder.html). If it is decided that the degree variable is more significant than the created higher education variable, we will use ordinal encoder for degree."
   ]
  },
  {
   "cell_type": "code",
   "execution_count": 10,
   "id": "9c896ee0-1d3e-41ce-9442-bbaf1cfe1038",
   "metadata": {},
   "outputs": [
    {
     "name": "stdout",
     "output_type": "stream",
     "text": [
      "Original: ['MASTERS'] - Transformed: [3.]\n",
      "Original: ['HIGH_SCHOOL'] - Transformed: [1.]\n",
      "Original: ['DOCTORAL'] - Transformed: [4.]\n",
      "Original: ['DOCTORAL'] - Transformed: [4.]\n",
      "Original: ['BACHELORS'] - Transformed: [2.]\n"
     ]
    }
   ],
   "source": [
    "# reshape degree from series to 2D array\n",
    "degree_array = np.array(features[\"degree\"]).reshape((len(features), 1))\n",
    "\n",
    "degree_levels = [\"NONE\", \"HIGH_SCHOOL\", \"BACHELORS\", \"MASTERS\", \"DOCTORAL\"]\n",
    "ordinal_transformer = OrdinalEncoder(categories = [degree_levels])\n",
    "degree_ordinal = ordinal_transformer.fit_transform(degree_array)\n",
    "\n",
    "for original, transformed in zip(degree_array[:5], degree_ordinal[:5]):\n",
    "    print(\"Original: {} - Transformed: {}\".format(original, transformed))\n",
    "\n",
    "# conserve memory\n",
    "del degree_ordinal"
   ]
  },
  {
   "cell_type": "markdown",
   "id": "4b7e320d-3329-4efe-ab41-4859882e4da0",
   "metadata": {},
   "source": [
    "## Polynomial Terms\n",
    "Since there was the presence of interactions between features, another potential addition are polynomial terms. Only AB interactions will be considered. We will use sklearn's [PolynomialFeatures](https://scikit-learn.org/stable/modules/generated/sklearn.preprocessing.PolynomialFeatures.html) to perform the polynomial transformation."
   ]
  },
  {
   "cell_type": "code",
   "execution_count": 11,
   "id": "4381a335-6f74-4411-a19f-daf55c0ebeec",
   "metadata": {},
   "outputs": [
    {
     "name": "stdout",
     "output_type": "stream",
     "text": [
      "['1', 'yearsExperience', 'milesFromMetropolis', 'yearsExperience^2', 'yearsExperience milesFromMetropolis', 'milesFromMetropolis^2']\n"
     ]
    }
   ],
   "source": [
    "poly = PolynomialFeatures(degree = 2)\n",
    "poly_features = poly.fit_transform(num_features)\n",
    "print(poly.get_feature_names(num_features.columns))\n",
    "\n",
    "# conserve memory\n",
    "del poly_features"
   ]
  },
  {
   "cell_type": "markdown",
   "id": "5c5193fc-feb6-4d4a-8a87-06d9fc29a6a7",
   "metadata": {},
   "source": [
    "## Testing Degree Encoding\n",
    "We will test to see ordinal encoding one-hot-encoding is the optimal encoding technique for Degree. The model will be tested using a simple linear regression. According to the results below, one-hot-encoding provides superior accuracy for encoding Degree."
   ]
  },
  {
   "cell_type": "markdown",
   "id": "69f15f1b-3df7-49c5-993e-39540c380939",
   "metadata": {},
   "source": [
    "#### Ordinal Encoding"
   ]
  },
  {
   "cell_type": "code",
   "execution_count": 12,
   "id": "149a0033-2c84-45cc-878d-827287fc3dd6",
   "metadata": {},
   "outputs": [],
   "source": [
    "# create mse storage\n",
    "degree_encoding_mse = []\n",
    "\n",
    "# initialize simple linear model\n",
    "lin_reg = LinearRegression()\n",
    "\n",
    "# ordinal pipeline\n",
    "num_var = [\"yearsExperience\", \"milesFromMetropolis\"]\n",
    "bin_var = [\"jobType\", \"major\", \"industry\"]\n",
    "ord_var = [\"degree\"]\n",
    "\n",
    "ordinal_transformer = ColumnTransformer([\n",
    "    (\"bin\", OneHotEncoder(drop = \"first\"), bin_var),\n",
    "    (\"ord\", OrdinalEncoder(), ord_var),\n",
    "    (\"num\", StandardScaler(), num_var)\n",
    "])\n",
    "\n",
    "# transform using pipeline\n",
    "features_ordinal = ordinal_transformer.fit_transform(features)\n",
    "\n",
    "# CV to get MSE\n",
    "degree_encoding_mse.append(cv_mse_stats(\"ordinal\", lin_reg, features_ordinal, target))\n",
    "\n",
    "# conserve memory\n",
    "del features_ordinal"
   ]
  },
  {
   "cell_type": "markdown",
   "id": "74cd4731-9684-4564-8479-36f7dae54bd0",
   "metadata": {},
   "source": [
    "#### One-hot-encoding"
   ]
  },
  {
   "cell_type": "code",
   "execution_count": 13,
   "id": "b62c68f8-ea43-4723-bc52-3007a636be9e",
   "metadata": {},
   "outputs": [],
   "source": [
    "# ordinal pipeline\n",
    "num_var = [\"yearsExperience\", \"milesFromMetropolis\"]\n",
    "bin_var = [\"jobType\", \"major\", \"industry\", \"degree\"]\n",
    "\n",
    "one_hot_transformer = ColumnTransformer([\n",
    "    (\"bin\", OneHotEncoder(drop = \"first\"), bin_var),\n",
    "    (\"num\", StandardScaler(), num_var)\n",
    "])\n",
    "\n",
    "# transform using pipeline\n",
    "features_one_hot = one_hot_transformer.fit_transform(features)\n",
    "\n",
    "# CV to get MSE\n",
    "degree_encoding_mse.append(cv_mse_stats(\"one_hot\", lin_reg, features_one_hot, target))\n",
    "\n",
    "# conserve memory\n",
    "del features_one_hot"
   ]
  },
  {
   "cell_type": "markdown",
   "id": "3fb25e55-89e6-498c-9e7d-232c3c2a01b4",
   "metadata": {},
   "source": [
    "#### Results"
   ]
  },
  {
   "cell_type": "code",
   "execution_count": 14,
   "id": "e37c349d-e318-4f4c-bc77-0e65e6348888",
   "metadata": {},
   "outputs": [
    {
     "data": {
      "text/html": [
       "<div>\n",
       "<style scoped>\n",
       "    .dataframe tbody tr th:only-of-type {\n",
       "        vertical-align: middle;\n",
       "    }\n",
       "\n",
       "    .dataframe tbody tr th {\n",
       "        vertical-align: top;\n",
       "    }\n",
       "\n",
       "    .dataframe thead th {\n",
       "        text-align: right;\n",
       "    }\n",
       "</style>\n",
       "<table border=\"1\" class=\"dataframe\">\n",
       "  <thead>\n",
       "    <tr style=\"text-align: right;\">\n",
       "      <th></th>\n",
       "      <th>Name</th>\n",
       "      <th>Mean MSE</th>\n",
       "      <th>Std MSE</th>\n",
       "    </tr>\n",
       "  </thead>\n",
       "  <tbody>\n",
       "    <tr>\n",
       "      <th>0</th>\n",
       "      <td>ordinal</td>\n",
       "      <td>402.014231</td>\n",
       "      <td>2.052929</td>\n",
       "    </tr>\n",
       "    <tr>\n",
       "      <th>1</th>\n",
       "      <td>one_hot</td>\n",
       "      <td>384.414337</td>\n",
       "      <td>1.992357</td>\n",
       "    </tr>\n",
       "  </tbody>\n",
       "</table>\n",
       "</div>"
      ],
      "text/plain": [
       "      Name    Mean MSE   Std MSE\n",
       "0  ordinal  402.014231  2.052929\n",
       "1  one_hot  384.414337  1.992357"
      ]
     },
     "metadata": {},
     "output_type": "display_data"
    }
   ],
   "source": [
    "degree_encoding_mse_df = pd.DataFrame(data = degree_encoding_mse, \n",
    "                          columns = [\"Name\", \"Mean MSE\", \"Std MSE\"])\n",
    "display(degree_encoding_mse_df)"
   ]
  },
  {
   "cell_type": "markdown",
   "id": "75003415-c173-4f13-90ef-e94f01c18a39",
   "metadata": {},
   "source": [
    "## Testing transformations\n",
    "We will test to see if the transformations will yield positive effect on the model. The test model will be a simple linear regression. According to the results below, the change does not improve base model accuracy thus will not be implemented."
   ]
  },
  {
   "cell_type": "markdown",
   "id": "fb7e92ea-4184-4343-bea9-30436f48fd5f",
   "metadata": {},
   "source": [
    "#### No tranformation"
   ]
  },
  {
   "cell_type": "code",
   "execution_count": 15,
   "id": "7473e4b4-b6b1-49ef-a44e-24dac08992d4",
   "metadata": {},
   "outputs": [],
   "source": [
    "# create mse storage\n",
    "degree_transformation_mse = []\n",
    "\n",
    "# base pipeline\n",
    "num_var = [\"yearsExperience\", \"milesFromMetropolis\"]\n",
    "bin_var = [\"jobType\", \"major\", \"industry\", \"degree\"]\n",
    "\n",
    "base_transformer = ColumnTransformer([\n",
    "    (\"bin\", OneHotEncoder(drop = \"first\"), bin_var),\n",
    "    (\"num\", StandardScaler(), num_var)\n",
    "])\n",
    "\n",
    "# transform\n",
    "features_degree_no_trans = base_transformer.fit_transform(features)\n",
    "\n",
    "# CV to get MSE\n",
    "degree_transformation_mse.append(cv_mse_stats(\"no_transformation\", \n",
    "                                              lin_reg, \n",
    "                                              features_degree_no_trans, \n",
    "                                              target))\n",
    "\n",
    "# conserve memory\n",
    "del features_degree_no_trans"
   ]
  },
  {
   "cell_type": "markdown",
   "id": "aadd34c2-d444-4d62-9b49-3c9847c2aece",
   "metadata": {},
   "source": [
    "#### Degree transformation"
   ]
  },
  {
   "cell_type": "code",
   "execution_count": 16,
   "id": "ac7a1395-e076-409f-b968-92b10e73dfc7",
   "metadata": {},
   "outputs": [],
   "source": [
    "# Degree pipelines\n",
    "bin_var_degree = [\"jobType\", \"major\", \"industry\", \"higher_ed\"]\n",
    "\n",
    "degree_transformer = ColumnTransformer([\n",
    "    (\"bin\", OneHotEncoder(drop = \"first\", sparse = False), bin_var_degree),\n",
    "    (\"num\", StandardScaler(), num_var)\n",
    "])\n",
    "\n",
    "degree_preprocess = Pipeline([\n",
    "    (\"degree\", change_variables(change_degree  = True)),\n",
    "    (\"var_trans\", degree_transformer)\n",
    "])\n",
    "\n",
    "# fit\n",
    "degree_preprocess_features = degree_preprocess.fit_transform(features)\n",
    "\n",
    "# CV to get MSE\n",
    "degree_transformation_mse.append(cv_mse_stats(\"degree_transform\", lin_reg, degree_preprocess_features, target))\n",
    "\n",
    "# conserve memory\n",
    "del degree_preprocess_features"
   ]
  },
  {
   "cell_type": "markdown",
   "id": "1cb72bd8-71e4-4484-a07d-14c9ea1920b3",
   "metadata": {},
   "source": [
    "#### Results"
   ]
  },
  {
   "cell_type": "code",
   "execution_count": 17,
   "id": "76f6f7f9-b9b9-4a39-a2bd-b5b41105044f",
   "metadata": {},
   "outputs": [
    {
     "data": {
      "text/html": [
       "<div>\n",
       "<style scoped>\n",
       "    .dataframe tbody tr th:only-of-type {\n",
       "        vertical-align: middle;\n",
       "    }\n",
       "\n",
       "    .dataframe tbody tr th {\n",
       "        vertical-align: top;\n",
       "    }\n",
       "\n",
       "    .dataframe thead th {\n",
       "        text-align: right;\n",
       "    }\n",
       "</style>\n",
       "<table border=\"1\" class=\"dataframe\">\n",
       "  <thead>\n",
       "    <tr style=\"text-align: right;\">\n",
       "      <th></th>\n",
       "      <th>Name</th>\n",
       "      <th>Mean MSE</th>\n",
       "      <th>Std MSE</th>\n",
       "    </tr>\n",
       "  </thead>\n",
       "  <tbody>\n",
       "    <tr>\n",
       "      <th>0</th>\n",
       "      <td>no_transformation</td>\n",
       "      <td>384.414337</td>\n",
       "      <td>1.992357</td>\n",
       "    </tr>\n",
       "    <tr>\n",
       "      <th>1</th>\n",
       "      <td>degree_transform</td>\n",
       "      <td>394.848128</td>\n",
       "      <td>1.836071</td>\n",
       "    </tr>\n",
       "  </tbody>\n",
       "</table>\n",
       "</div>"
      ],
      "text/plain": [
       "                Name    Mean MSE   Std MSE\n",
       "0  no_transformation  384.414337  1.992357\n",
       "1   degree_transform  394.848128  1.836071"
      ]
     },
     "metadata": {},
     "output_type": "display_data"
    }
   ],
   "source": [
    "degree_transformation_mse_df = pd.DataFrame(data = degree_transformation_mse, \n",
    "                          columns = [\"Name\", \"Mean MSE\", \"Std MSE\"])\n",
    "display(degree_transformation_mse_df)"
   ]
  },
  {
   "cell_type": "markdown",
   "id": "e6079476-ffe2-48f9-848f-999c358b820a",
   "metadata": {},
   "source": [
    "## Visualization of Degree Encoding Results"
   ]
  },
  {
   "cell_type": "code",
   "execution_count": 18,
   "id": "1973d0dd-e5d7-47ce-95fe-49eba0544a29",
   "metadata": {},
   "outputs": [
    {
     "data": {
      "text/html": [
       "<div>\n",
       "<style scoped>\n",
       "    .dataframe tbody tr th:only-of-type {\n",
       "        vertical-align: middle;\n",
       "    }\n",
       "\n",
       "    .dataframe tbody tr th {\n",
       "        vertical-align: top;\n",
       "    }\n",
       "\n",
       "    .dataframe thead th {\n",
       "        text-align: right;\n",
       "    }\n",
       "</style>\n",
       "<table border=\"1\" class=\"dataframe\">\n",
       "  <thead>\n",
       "    <tr style=\"text-align: right;\">\n",
       "      <th></th>\n",
       "      <th>Name</th>\n",
       "      <th>Mean MSE</th>\n",
       "      <th>Std MSE</th>\n",
       "    </tr>\n",
       "  </thead>\n",
       "  <tbody>\n",
       "    <tr>\n",
       "      <th>0</th>\n",
       "      <td>one_hot</td>\n",
       "      <td>384.414337</td>\n",
       "      <td>1.992357</td>\n",
       "    </tr>\n",
       "    <tr>\n",
       "      <th>1</th>\n",
       "      <td>degree_transform</td>\n",
       "      <td>394.848128</td>\n",
       "      <td>1.836071</td>\n",
       "    </tr>\n",
       "    <tr>\n",
       "      <th>2</th>\n",
       "      <td>ordinal</td>\n",
       "      <td>402.014231</td>\n",
       "      <td>2.052929</td>\n",
       "    </tr>\n",
       "  </tbody>\n",
       "</table>\n",
       "</div>"
      ],
      "text/plain": [
       "               Name    Mean MSE   Std MSE\n",
       "0           one_hot  384.414337  1.992357\n",
       "1  degree_transform  394.848128  1.836071\n",
       "2           ordinal  402.014231  2.052929"
      ]
     },
     "metadata": {},
     "output_type": "display_data"
    }
   ],
   "source": [
    "# combining results\n",
    "mse = np.concatenate(\n",
    "    (np.array(degree_encoding_mse_df), np.array(degree_transformation_mse_df.iloc[1:])), \n",
    "    axis = 0)\n",
    "results = pd.DataFrame(data = mse, columns = [\"Name\", \"Mean MSE\", \"Std MSE\"])\n",
    "results = results.sort_values(by = \"Mean MSE\", ignore_index = True)\n",
    "display(results)"
   ]
  },
  {
   "cell_type": "code",
   "execution_count": 19,
   "id": "de260fb0-a86c-4856-bf9c-7b1b6a1e6e89",
   "metadata": {},
   "outputs": [
    {
     "name": "stdout",
     "output_type": "stream",
     "text": [
      "Saving figure Degree Encoding Results\n"
     ]
    },
    {
     "data": {
      "image/png": "[encoded data removed]",
      "text/plain": [
       "<Figure size 576x432 with 1 Axes>"
      ]
     },
     "metadata": {
      "needs_background": "light"
     },
     "output_type": "display_data"
    }
   ],
   "source": [
    "# plotting\n",
    "plot_results(results, \"Degree Encoding Results\")"
   ]
  },
  {
   "cell_type": "code",
   "execution_count": null,
   "id": "c850ae75-a6f7-422c-85d0-3ea91f34e37e",
   "metadata": {},
   "outputs": [],
   "source": []
  }
 ],
 "metadata": {
  "kernelspec": {
   "display_name": "Python 3",
   "language": "python",
   "name": "python3"
  },
  "language_info": {
   "codemirror_mode": {
    "name": "ipython",
    "version": 3
   },
   "file_extension": ".py",
   "mimetype": "text/x-python",
   "name": "python",
   "nbconvert_exporter": "python",
   "pygments_lexer": "ipython3",
   "version": "3.8.8"
  },
  "toc-showcode": false
 },
 "nbformat": 4,
 "nbformat_minor": 5
}
