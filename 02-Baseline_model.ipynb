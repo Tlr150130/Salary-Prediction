{
 "cells": [
  {
   "cell_type": "markdown",
   "id": "a2ab2ce2-bf79-43c8-8648-53d91287243d",
   "metadata": {},
   "source": [
    "# Creating Baseline Models"
   ]
  },
  {
   "cell_type": "code",
   "execution_count": 1,
   "id": "5d501283-2296-4df8-99b0-c0bd5b3ed7d4",
   "metadata": {},
   "outputs": [],
   "source": [
    "# Author information\n",
    "__author__ = \"Troy Reynolds\"\n",
    "__email__ = \"Troy.Lloyd.Reynolds@gmail.com\""
   ]
  },
  {
   "cell_type": "code",
   "execution_count": 2,
   "id": "55c6c1cf-90be-4929-b03c-a6651f039b9f",
   "metadata": {},
   "outputs": [],
   "source": [
    "# libraries\n",
    "import pandas as pd\n",
    "import sys\n",
    "import inspect\n",
    "from sklearn.model_selection import cross_val_score\n",
    "from sklearn.linear_model import LinearRegression\n",
    "from statistics import mean, stdev\n",
    "import os\n",
    "\n",
    "# Extend the directory to get created functions\n",
    "sys.path.insert(0, \"./function_scripts\")\n",
    "\n",
    "# import helper functions\n",
    "from data_import_functions import get_data\n",
    "from Baseline_functions import avg_per_industry_degree, cross_val\n",
    "from results import save_results"
   ]
  },
  {
   "cell_type": "code",
   "execution_count": 3,
   "id": "c5793e23-f6c9-495c-9dca-545cd59fb0bd",
   "metadata": {},
   "outputs": [],
   "source": [
    "# load in the data\n",
    "data = get_data(\"train\", key = \"jobId\", target_variable = \"salary\", remove_zeros = True)\n",
    "\n",
    "# drop id variables besides JobID for pairing in baseline regressor\n",
    "features = data.drop([\"companyId\", \"salary\"], axis = 1)\n",
    "target = data[\"salary\"]"
   ]
  },
  {
   "cell_type": "markdown",
   "id": "1dbdaae1-c84f-4a19-aa9f-40fc17877404",
   "metadata": {},
   "source": [
    "## Baseline Model Proposition\n",
    "The baseline model will reflect a naive estimation without higher-level modeling. The 2 baseline models that I propose are:\n",
    "1. Predict the average per industry and degree\n",
    "2. Predict the average per job title\n",
    "3. Standard linear regression using categorical level averages"
   ]
  },
  {
   "cell_type": "markdown",
   "id": "574c5463-b6ff-4d68-bc9a-3f5c2bb3868b",
   "metadata": {},
   "source": [
    "## Creation of Estimator Class\n",
    "The class is created and stored in a helper .py file. The code is presented below."
   ]
  },
  {
   "cell_type": "code",
   "execution_count": 4,
   "id": "08195e31-8d86-4f19-9d2b-3536d9a0646e",
   "metadata": {},
   "outputs": [
    {
     "name": "stdout",
     "output_type": "stream",
     "text": [
      "class avg_per_industry_degree():\n",
      "    \"\"\"\n",
      "    Creates a model based on averages of categorical variable levels\n",
      "    \n",
      "    Methods\n",
      "    =======\n",
      "    fit: Calculates the avarage of different levels or combination of levels for prediction\n",
      "    predict: predicts the target variable based on the averages\n",
      "    \"\"\"\n",
      "    def __init__(self, columns):\n",
      "        self.fitted_columns = columns\n",
      "        self.fitted = False\n",
      "    \n",
      "    def fit(self, X, y = None):\n",
      "        \"\"\"\n",
      "        Parameters:\n",
      "        ===========\n",
      "        X: dataframe\n",
      "        y: dataframe, series, or numpy array\n",
      "        columns: list of columns to have the averages based on\n",
      "        \"\"\"\n",
      "        X_copy = X.copy()\n",
      "        \n",
      "        if (all(x in X.columns[X.dtypes == \"O\"] for x in self.fitted_columns)):\n",
      "            X_copy[\"target\"] = y.copy()\n",
      "            self.level_averages = X_copy.groupby(self.fitted_columns) \\\n",
      "                                   .mean() \\\n",
      "                                   .drop([\"yearsExperience\", \"milesFromMetropolis\"], axis = 1)\n",
      "            self.fitted = True\n",
      "            return self\n",
      "        \n",
      "        else:\n",
      "            print(\"Please choose categorical columns that are in the dataset.\")\n",
      "        \n",
      "    def predict(self, X):\n",
      "        \"\"\"\n",
      "        Parameters:\n",
      "        ===========\n",
      "        X: dataframe\n",
      "        \n",
      "        Returns:\n",
      "        ========\n",
      "        pred: dataframe[\"jobId\", \"target_y\"]\n",
      "        \"\"\"\n",
      "        if self.fitted:\n",
      "            pred = pd.merge(X, \n",
      "                            self.level_averages, \n",
      "                            how = \"left\", \n",
      "                            left_on = self.fitted_columns, \n",
      "                            right_on = self.fitted_columns)[[\"jobId\", \"target\"]]\n",
      "            return pred\n",
      "        \n",
      "        else:\n",
      "            print(\"The model needs to be fitted.\")\n",
      "            \n",
      "    def get_params(self, deep = False):\n",
      "        \"\"\"\n",
      "        Returns average level values\n",
      "        \"\"\"\n",
      "        if self.fitted:\n",
      "            return self.level_averages\n",
      "        else:\n",
      "            print(\"The model needs to be fitted.\")\n",
      "\n"
     ]
    }
   ],
   "source": [
    "# Predict the average per specified columns\n",
    "print(inspect.getsource(avg_per_industry_degree))"
   ]
  },
  {
   "cell_type": "markdown",
   "id": "a5cc3173-38f3-43fb-b401-dfd03f5dfdcd",
   "metadata": {},
   "source": [
    "## Baseline Error Metric"
   ]
  },
  {
   "cell_type": "markdown",
   "id": "24e0988a-ccd5-4ea2-a85b-a7a802439782",
   "metadata": {},
   "source": [
    "#### Predict the average per industry and degree"
   ]
  },
  {
   "cell_type": "code",
   "execution_count": 5,
   "id": "16955154-5748-49f3-a9c5-a71e6164bc39",
   "metadata": {},
   "outputs": [],
   "source": [
    "# run cross validation\n",
    "industry_degree_reg = avg_per_industry_degree(columns = [\"industry\", \"degree\"])\n",
    "industry_degree_mse = cross_val(model = industry_degree_reg, X = features, y = target, cv = 5)"
   ]
  },
  {
   "cell_type": "markdown",
   "id": "4b00eb02-f7d2-4660-8fd3-cd1614c88a38",
   "metadata": {},
   "source": [
    "#### Predict the average per job title"
   ]
  },
  {
   "cell_type": "code",
   "execution_count": 6,
   "id": "edd5a8a5-5eb0-4d7b-bed6-4b8c1407dca0",
   "metadata": {},
   "outputs": [],
   "source": [
    "jobType_reg = avg_per_industry_degree(columns = [\"jobType\"])\n",
    "jobType_mse = cross_val(model = jobType_reg, X = features, y = target, cv = 5)"
   ]
  },
  {
   "cell_type": "markdown",
   "id": "78c19678-2588-4ab1-b42d-80a2c4a39931",
   "metadata": {},
   "source": [
    "#### Standard linear regression using categorical level averages"
   ]
  },
  {
   "cell_type": "code",
   "execution_count": 7,
   "id": "614c0435-9712-4640-bb4b-40184741dd22",
   "metadata": {},
   "outputs": [],
   "source": [
    "# drop id's and replace categorical level with salary average of level\n",
    "data_no_id = data.drop([\"jobId\", \"companyId\"], axis = 1)\n",
    "cat_variables = data_no_id.columns[data_no_id.dtypes == \"O\"]\n",
    "for col in cat_variables:\n",
    "    data_no_id[col] = data_no_id.groupby(col)[\"salary\"].transform(\"mean\")\n",
    "    \n",
    "features_no_cat = data_no_id.drop(\"salary\", axis = 1)"
   ]
  },
  {
   "cell_type": "code",
   "execution_count": 8,
   "id": "d4106870-9231-41fd-96b3-364a266790b1",
   "metadata": {},
   "outputs": [],
   "source": [
    "# regression\n",
    "lin_reg = LinearRegression()\n",
    "lin_neg_mse = cross_val_score(lin_reg,\n",
    "                              features_no_cat, \n",
    "                              target, \n",
    "                              scoring = \"neg_mean_squared_error\", \n",
    "                              cv = 5,\n",
    "                              verbose = 0,\n",
    "                              n_jobs = -1)\n",
    "lin_mse = -1*lin_neg_mse"
   ]
  },
  {
   "cell_type": "markdown",
   "id": "3bd288b4-9a7e-48fa-94d7-d3de04507e4a",
   "metadata": {},
   "source": [
    "#### Results\n",
    "The simple linear regression vastly outperformed the other naive baseline models. This suggests that a model will improve any average guess by a large margin. In conclusion, the MSE benchmark to surpass is 399.131258."
   ]
  },
  {
   "cell_type": "code",
   "execution_count": 9,
   "id": "572b3edb-3a00-457b-89f9-1dd72e012dbc",
   "metadata": {},
   "outputs": [
    {
     "data": {
      "text/html": [
       "<div>\n",
       "<style scoped>\n",
       "    .dataframe tbody tr th:only-of-type {\n",
       "        vertical-align: middle;\n",
       "    }\n",
       "\n",
       "    .dataframe tbody tr th {\n",
       "        vertical-align: top;\n",
       "    }\n",
       "\n",
       "    .dataframe thead th {\n",
       "        text-align: right;\n",
       "    }\n",
       "</style>\n",
       "<table border=\"1\" class=\"dataframe\">\n",
       "  <thead>\n",
       "    <tr style=\"text-align: right;\">\n",
       "      <th></th>\n",
       "      <th>Estimator</th>\n",
       "      <th>Average MSE</th>\n",
       "      <th>Standard Deviation MSE</th>\n",
       "    </tr>\n",
       "  </thead>\n",
       "  <tbody>\n",
       "    <tr>\n",
       "      <th>2</th>\n",
       "      <td>Simple Linear Regression</td>\n",
       "      <td>399.131258</td>\n",
       "      <td>2.084684</td>\n",
       "    </tr>\n",
       "    <tr>\n",
       "      <th>1</th>\n",
       "      <td>Job Type Average</td>\n",
       "      <td>963.944600</td>\n",
       "      <td>3.304819</td>\n",
       "    </tr>\n",
       "    <tr>\n",
       "      <th>0</th>\n",
       "      <td>Industry and Degree Average</td>\n",
       "      <td>1125.587248</td>\n",
       "      <td>4.999431</td>\n",
       "    </tr>\n",
       "  </tbody>\n",
       "</table>\n",
       "</div>"
      ],
      "text/plain": [
       "                     Estimator  Average MSE  Standard Deviation MSE\n",
       "2     Simple Linear Regression   399.131258                2.084684\n",
       "1             Job Type Average   963.944600                3.304819\n",
       "0  Industry and Degree Average  1125.587248                4.999431"
      ]
     },
     "metadata": {},
     "output_type": "display_data"
    },
    {
     "name": "stdout",
     "output_type": "stream",
     "text": [
      "Results Saved to .\\results\\baseline_model_results.pkl\n"
     ]
    }
   ],
   "source": [
    "# collect results\n",
    "avg_mse = [mean(industry_degree_mse), mean(jobType_mse), mean(lin_mse)]\n",
    "std_mse = [stdev(industry_degree_mse), stdev(jobType_mse), stdev(lin_mse)]\n",
    "estimator = [\"Industry and Degree Average\", \"Job Type Average\", \"Simple Linear Regression\"]\n",
    "\n",
    "results = pd.DataFrame(data = {\"Estimator\": estimator, \n",
    "                               \"Average MSE\": avg_mse, \n",
    "                               \"Standard Deviation MSE\": std_mse})\n",
    "# display results\n",
    "display(results.sort_values(\"Average MSE\", ascending = True))\n",
    "\n",
    "# save results\n",
    "results_sorted = results.sort_values(\"Average MSE\", ascending = True)\n",
    "save_results(results_sorted, \"baseline_model_results\")"
   ]
  },
  {
   "cell_type": "markdown",
   "id": "6e5ca7af-76dd-4ff9-afaf-c47ab59222c9",
   "metadata": {},
   "source": [
    "## Model Proposal"
   ]
  },
  {
   "cell_type": "markdown",
   "id": "2295d4d7-1b14-4c09-8844-9b847b77f91f",
   "metadata": {},
   "source": [
    "The proposed models will be split into 2 categories: linear model and tree-based model.\n",
    "\n",
    "<u>Linear Model:</u> The linear models proposed based on Ridge regression because all features are correlated with the target variable and thus valuable. Lasso Regression is added with the addition of polynomial features for potential feature selection.\n",
    "* Linear Regression\n",
    "* Polynomial Linear Regression \n",
    "* Linear Regression with only industry and major interaction terms\n",
    "* Ridge Regression\n",
    "* Polynomial Ridge Regression \n",
    "\n",
    "<u>Tree-based Model:</u>\n",
    "* Random-Forest Model\n",
    "* XGBoost Regresssor"
   ]
  },
  {
   "cell_type": "code",
   "execution_count": null,
   "id": "a0967a10-8412-4c94-81cb-62d3d9de9f0f",
   "metadata": {},
   "outputs": [],
   "source": []
  }
 ],
 "metadata": {
  "kernelspec": {
   "display_name": "Python 3",
   "language": "python",
   "name": "python3"
  },
  "language_info": {
   "codemirror_mode": {
    "name": "ipython",
    "version": 3
   },
   "file_extension": ".py",
   "mimetype": "text/x-python",
   "name": "python",
   "nbconvert_exporter": "python",
   "pygments_lexer": "ipython3",
   "version": "3.8.8"
  }
 },
 "nbformat": 4,
 "nbformat_minor": 5
}
